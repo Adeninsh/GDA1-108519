{
 "cells": [
  {
   "metadata": {},
   "cell_type": "markdown",
   "source": [
    "# Introduction to Pandas DataFrames\n",
    "\n",
    "![Pandas](https://raw.githubusercontent.com/Adeninsh/GDA1-108519/refs/heads/main/Pandas.webp)\n",
    "\n",
    "[Pandas](https://pandas.pydata.org/) is a powerful and versatile library for Python, designed primarily for data manipulation and analysis. To quote from Nvidia’s website:\n",
    "> Pandas is the most popular software library for data manipulation and data analysis for the Python programming language. [www.nvidia.com](www.nvidia.com)\n",
    "> \n",
    "Here is an (incomplete) list of some key functionalities provided by Pandas:\n",
    "\n",
    "1. **Data Structures**\n",
    "   * *Series*: One-dimensional labeled array capable of holding data of any type.\n",
    "   * *DataFrame*: Two-dimensional, size-mutable, potentially heterogeneous tabular data structure with labeled axes (rows and columns).\n",
    "\n",
    "2. **Data Manipulation**\n",
    "   * *Data Selection and Indexing*: Access data via labels, indices, or boolean masks ( <span ><code>.loc</code>, <code>.iloc</code>, <code>.at</code>, <code>.iat</code> </span>).\n",
    "   * *Filtering*: Filter data based on conditions or queries.\n",
    "   * *Sorting*: Sort data by labels or values.\n",
    "   * *Handling Missing Data*: Identify, fill, or drop missing values (<code>isnull</code>, <code>dropna</code>, <code>fillna</code>).\n",
    "         \n",
    "3. **Data Cleaning**\n",
    "    * *Dropping Duplicates*: Remove duplicate rows or columns.\n",
    "    * *Replacing Values*: Replace specific values in the DataFrame.\n",
    "    * *String Operations*: Perform operations on string data, like splitting, replacing, and pattern matching (str.split, str.replace).\n",
    "4. **Aggregation and Grouping**\n",
    "    * *Group By*: Split data into groups based on criteria, and perform aggregate functions like sum, mean, or custom operations.\n",
    "    * *Pivot Tables*: Create a pivot table to summarize data.\n",
    "5. **Merging and Joining**\n",
    "    * *Concatenation*: Combine multiple DataFrames along a particular axis.\n",
    "    * *Merging*: Merge DataFrames similar to SQL joins (<code>merge</code>, <code>join</code>).\n",
    "6. **Time Series**\n",
    "    * *Datetime Conversion*: Convert date and time data to a datetime object.\n",
    "    * *Resampling*: Aggregate data over a time period.\n",
    "    * *Time-based Indexing*: Access and manipulate time-series data easily with date indexing.\n",
    "7. **Statistical and Mathematical Operations**\n",
    "    * *Descriptive Statistics*: Compute summary statistics for DataFrame columns.\n",
    "    * *Correlation/ Covariance*: Calculate the pairwise correlation or covariance between columns.\n",
    "    * *Cumulative Operations*: Perform cumulative operations on data.\n",
    "\n",
    "At the heart of Pandas lies the DataFrame, a two-dimensional labeled data structure with columns of\n",
    "potentially different types, similar to a table in a relational database or an Excel spreadsheet.\n",
    "Understanding DataFrames is crucial for anyone looking to perform data analysis in Python.\n",
    "\n",
    "# What is a DataFrame?\n",
    "---------\n",
    "\n",
    "A DataFrame is a table-like structure in Pandas that consists of rows and columns, where each column can\n",
    "hold different data types (e.g., integers, floats, strings). You can think of it as a collection of Series objects,\n",
    "where each Series is a single column of data. DataFrames provide a highly efficient way to store and \n",
    "manipulate large datasets in memory.\n",
    "\n",
    "# Creating a DataFrame\n",
    "---------\n",
    "\n",
    "There are several ways to create a DataFrame in Pandas, but some of the most common methods are:\n",
    "\n",
    "   1. From a Dictionary\n",
    "   2. From a List of Lists\n",
    "   3. From a CSV File\n",
    "\n",
    "Below we take a look at the first two approaches.\n",
    "\n",
    "# Creating DataFrame from a Dictionary\n",
    "\n",
    "The following code will create a DataFrame with three columns: ‘Name’, ‘Age’, and ‘City’, and three rows\n",
    " corresponding to the data provided in the dictionary. To be able to use Pandas, we first have to import it.\n",
    "  This is done using the command <code>import pandas as pd</code>, introducing the alias <code>pd</code> for Pandas."
   ],
   "id": "852c4e4697e01b49"
  },
  {
   "metadata": {
    "ExecuteTime": {
     "end_time": "2024-11-03T15:09:43.176522Z",
     "start_time": "2024-11-03T15:09:43.163521Z"
    }
   },
   "cell_type": "code",
   "source": [
    "import pandas as pd\n",
    "\n",
    "data = {\n",
    "    'Name': ['Alice', 'Bob', 'Charlie'],\n",
    "    'Age': [25, 30, 35],\n",
    "    'City': ['New York', 'Los Angeles', 'Chicago']\n",
    "}\n",
    "\n",
    "df = pd.DataFrame(data)\n",
    "print(df)"
   ],
   "id": "af3330b400dfe030",
   "outputs": [
    {
     "name": "stdout",
     "output_type": "stream",
     "text": [
      "      Name  Age         City\n",
      "0    Alice   25     New York\n",
      "1      Bob   30  Los Angeles\n",
      "2  Charlie   35      Chicago\n"
     ]
    }
   ],
   "execution_count": 9
  },
  {
   "metadata": {},
   "cell_type": "markdown",
   "source": [
    "# Creating DataFrame from a List of Lists\n",
    "\n",
    "Here, we create the DataFrame from a list of lists where each inner list represents the values for one row. Note that We explicitly specify the column names when creating the DataFrame."
   ],
   "id": "698171522e02b7d3"
  },
  {
   "metadata": {
    "ExecuteTime": {
     "end_time": "2024-11-03T15:05:19.146722Z",
     "start_time": "2024-11-03T15:05:19.137724Z"
    }
   },
   "cell_type": "code",
   "source": [
    "data = [\n",
    "    ['Alice', 25, 'New York'],\n",
    "    ['Bob', 30, 'Los Angeles'],\n",
    "    ['Charlie', 35, 'Chicago']\n",
    "]\n",
    "\n",
    "df = pd.DataFrame(data, columns=['Name', 'Age', 'City'])\n",
    "print(df)"
   ],
   "id": "4240f16dd6ce4c45",
   "outputs": [
    {
     "name": "stdout",
     "output_type": "stream",
     "text": [
      "      Name  Age         City\n",
      "0    Alice   25     New York\n",
      "1      Bob   30  Los Angeles\n",
      "2  Charlie   35      Chicago\n"
     ]
    }
   ],
   "execution_count": 4
  },
  {
   "metadata": {},
   "cell_type": "markdown",
   "source": [
    "# Accessing Data in a DataFrame\n",
    "---------\n",
    "Once you have a DataFrame, you can access its data in various ways:\n",
    "\n",
    "By column name:\n"
   ],
   "id": "ebc7a9f69d26baff"
  },
  {
   "metadata": {
    "ExecuteTime": {
     "end_time": "2024-11-03T15:07:10.911466Z",
     "start_time": "2024-11-03T15:07:10.906467Z"
    }
   },
   "cell_type": "code",
   "source": "print(df['Name'])",
   "id": "25cd8d0482b32057",
   "outputs": [
    {
     "name": "stdout",
     "output_type": "stream",
     "text": [
      "0      Alice\n",
      "1        Bob\n",
      "2    Charlie\n",
      "Name: Name, dtype: object\n"
     ]
    }
   ],
   "execution_count": 5
  },
  {
   "metadata": {},
   "cell_type": "markdown",
   "source": "By row index:",
   "id": "c7f70a2006addff5"
  },
  {
   "metadata": {
    "ExecuteTime": {
     "end_time": "2024-11-03T15:07:59.487059Z",
     "start_time": "2024-11-03T15:07:59.473053Z"
    }
   },
   "cell_type": "code",
   "source": "print(df.iloc[0])",
   "id": "244a003d8aaa5513",
   "outputs": [
    {
     "name": "stdout",
     "output_type": "stream",
     "text": [
      "Name       Alice\n",
      "Age           25\n",
      "City    New York\n",
      "Name: 0, dtype: object\n"
     ]
    }
   ],
   "execution_count": 6
  },
  {
   "metadata": {},
   "cell_type": "markdown",
   "source": "Using both:",
   "id": "fc49769f3df60d78"
  },
  {
   "metadata": {
    "ExecuteTime": {
     "end_time": "2024-11-03T15:08:29.239226Z",
     "start_time": "2024-11-03T15:08:29.231227Z"
    }
   },
   "cell_type": "code",
   "source": "print(df.loc[0, 'Name'])",
   "id": "fa57f1be2def0283",
   "outputs": [
    {
     "name": "stdout",
     "output_type": "stream",
     "text": [
      "Alice\n"
     ]
    }
   ],
   "execution_count": 7
  },
  {
   "metadata": {},
   "cell_type": "markdown",
   "source": [
    "# Conclusion\n",
    "--------\n",
    "\n",
    "Pandas DataFrames are a fundamental tool in the data analysis toolkit for Python users. They provide a powerful way to organize, manipulate, and analyze data efficiently. Whether you’re working with small datasets or handling large-scale data, mastering DataFrames will allow you to tackle a wide range of data-related tasks with ease.\n",
    "\n",
    "\n",
    "In this introduction, we’ve covered the basics of what a DataFrame is, how to create one, and how to access columns, rows, and individual cells in a DataFrame. As you continue to explore Pandas, you’ll discover many more features and capabilities that make DataFrames an indispensable part of Python programming. The table below contains a number of resources related to Pandas.\n",
    "|||\n",
    "| :------------ | :------------ |\n",
    "|**Resource** |\t**Description** |\n",
    "|[Pandas Documentation](https://pandas.pydata.org/) |\tOfficial documentation for Pandas.|\n",
    "|[Python for Data Analysis](https://www.oreilly.com/library/view/python-for-data/9781491957653/) |\tComprehensive guide by Pandas creator, Wes McKinney.|\n",
    "|[Real Python: The Pandas DataFrame](https://realpython.com/pandas-dataframe/) |\tTutorials on using Pandas for data analysis.|\n",
    "|[Kaggle Pandas](https://www.kaggle.com/learn/pandas) |\tFree introductory course on Pandas by Kaggle.|\n",
    "|[DataCamp Pandas Tutorial](https://www.datacamp.com/community/tutorials/pandas-tutorial-dataframe-python) |\tDetailed tutorials and exercises on Pandas.|"
   ],
   "id": "ae401924c793820c"
  }
 ],
 "metadata": {
  "kernelspec": {
   "display_name": "Python 3",
   "language": "python",
   "name": "python3"
  },
  "language_info": {
   "codemirror_mode": {
    "name": "ipython",
    "version": 2
   },
   "file_extension": ".py",
   "mimetype": "text/x-python",
   "name": "python",
   "nbconvert_exporter": "python",
   "pygments_lexer": "ipython2",
   "version": "2.7.6"
  }
 },
 "nbformat": 4,
 "nbformat_minor": 5
}
